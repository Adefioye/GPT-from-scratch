{
 "cells": [
  {
   "cell_type": "markdown",
   "id": "6ee610b2",
   "metadata": {},
   "source": [
    "<h3 style=\"text-align: center;\"> Schematics of GPT to be implemented </h3>\n",
    "\n",
    "<div style=\"display: flex; justify-content: space-around;\">\n",
    "\n",
    "  <figure style=\"text-align: center; margin: 10px;\">\n",
    "    <img src=\"decoder-transformer.png\" alt=\"Simple Transformer Architecture\" width=\"300\">\n",
    "    <figcaption>Simple Transformer Architecture</figcaption>\n",
    "  </figure>\n",
    "\n",
    "  <figure style=\"text-align: center; margin: 10px;\">\n",
    "    <img src=\"transformer-block.png\" alt=\"Transformer Block\" width=\"300\">\n",
    "    <figcaption>Transformer Block</figcaption>\n",
    "  </figure>\n",
    "\n",
    "</div>"
   ]
  },
  {
   "cell_type": "code",
   "execution_count": null,
   "id": "f1a1ee58",
   "metadata": {
    "vscode": {
     "languageId": "plaintext"
    }
   },
   "outputs": [],
   "source": []
  },
  {
   "cell_type": "markdown",
   "id": "5f66dc11",
   "metadata": {},
   "source": []
  }
 ],
 "metadata": {
  "language_info": {
   "name": "python"
  }
 },
 "nbformat": 4,
 "nbformat_minor": 5
}
