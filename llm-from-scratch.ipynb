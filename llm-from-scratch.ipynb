{
 "cells": [
  {
   "cell_type": "markdown",
   "id": "6ee610b2",
   "metadata": {},
   "source": [
    "<h3 style=\"text-align: center;\"> Schematics of GPT to be implemented </h3>\n",
    "\n",
    "<div style=\"display: flex; justify-content: space-around;\">\n",
    "\n",
    "  <figure style=\"text-align: center; margin: 10px;\">\n",
    "    <img src=\"decoder-transformer.png\" alt=\"Simple Transformer Architecture\" width=\"300\">\n",
    "    <figcaption>Simple Transformer Architecture</figcaption>\n",
    "  </figure>\n",
    "\n",
    "  <figure style=\"text-align: center; margin: 10px;\">\n",
    "    <img src=\"transformer-block.png\" alt=\"Transformer Block\" width=\"300\">\n",
    "    <figcaption>Transformer Block</figcaption>\n",
    "  </figure>\n",
    "\n",
    "</div>"
   ]
  },
  {
   "cell_type": "code",
   "execution_count": 1,
   "id": "f1a1ee58",
   "metadata": {},
   "outputs": [],
   "source": [
    "GPT_CONFIG_124M = {\n",
    "    \"vocab_size\": 50257,    # Vocabulary size\n",
    "    \"context_length\": 1024, # Context length\n",
    "    \"emb_dim\": 768,         # Embedding dimension\n",
    "    \"n_heads\": 12,          # Number of attention heads\n",
    "    \"n_layers\": 12,         # Number of layers\n",
    "    \"drop_rate\": 0.1,       # Dropout rate\n",
    "    \"qkv_bias\": False       # Query-Key-Value bias\n",
    "}"
   ]
  },
  {
   "cell_type": "code",
   "execution_count": null,
   "id": "155fe47e",
   "metadata": {},
   "outputs": [],
   "source": [
    "import torch\n",
    "import torch.nn as nn \n",
    "\n",
    "class DummyGPTModel(nn.Module):\n",
    "    def __init__(self, cfg):\n",
    "        super().__init__()\n",
    "        self.token_emb = nn.Embedding(cfg[\"vocab_size\"], cfg[\"emb_dim\"])\n",
    "        self.pos_emb = nn.Embedding(cfg[\"context_length\"], cfg[\"emb_dim\"])\n",
    "        self.drop_out = nn.Dropout(cfg[\"drop_rate\"])\n",
    "        self.transformer_blocks = nn.Sequential(\n",
    "            *[DummyTransformerBlock(cfg) for _ in range(cfg[\"n_layers\"])]\n",
    "        )\n",
    "        self.final_norm = DummyLayerNorm(cfg[\"emb_dim\"])\n",
    "        self.out_head = nn.Linear(cfg[\"emb_dim\"], cfg[\"vocab_size\"], bias=False)\n",
    "\n",
    "    def forward(self, x):\n",
    "        B, T = x.shape\n",
    "        token_embeds = self.token_emb(x) # (B, T, emb_dim)\n",
    "        pos_embeds = self.pos_emb(torch.arange(T, device=x.device)) # (T, emb_dim)\n",
    "        x = token_embeds + pos_embeds # (B, T, emb_dim)\n",
    "        x = self.drop_out(x) # (B, T, emb_dim)\n",
    "        x = self.transformer_blocks(x) # (B, T, emb_dim)\n",
    "        x = self.final_norm(x) # (B, T, emb_dim)\n",
    "        logits = self.out_head(x) # (B, T, emb_dim) @ (emb_dim, vocab_size) -> (B, T, vocab_size)\n",
    "        return logits\n",
    "\n",
    "class DummyTransformerBlock(nn.Module):\n",
    "    def __init__(self, cfg):\n",
    "        super().__init__()\n",
    "\n",
    "    def forward(self, x):\n",
    "        return x\n",
    "\n",
    "class DummyLayerNorm(nn.Module):\n",
    "    def __init__(self, normalized_shape, eps=1e-5):\n",
    "        super().__init__()\n",
    "\n",
    "    def forward(self, x):\n",
    "        return x"
   ]
  },
  {
   "cell_type": "code",
   "execution_count": 6,
   "id": "281068a9",
   "metadata": {},
   "outputs": [
    {
     "data": {
      "text/plain": [
       "torch.Size([2, 4])"
      ]
     },
     "execution_count": 6,
     "metadata": {},
     "output_type": "execute_result"
    }
   ],
   "source": [
    "import tiktoken\n",
    "\n",
    "tokenizer = tiktoken.get_encoding(\"gpt2\")\n",
    "tmp_batch = []\n",
    "txt1 = \"Every effort moves you\"\n",
    "txt2 = \"Every day holds a\"\n",
    "\n",
    "tmp_batch.append(torch.tensor(tokenizer.encode(txt1)))\n",
    "tmp_batch.append(torch.tensor(tokenizer.encode(txt2)))\n",
    "\n",
    "batch = torch.stack(tmp_batch, dim=0)\n",
    "batch.shape"
   ]
  },
  {
   "cell_type": "code",
   "execution_count": 8,
   "id": "7d7260fe",
   "metadata": {},
   "outputs": [
    {
     "name": "stdout",
     "output_type": "stream",
     "text": [
      "Logits shape:  torch.Size([2, 4, 50257])\n"
     ]
    },
    {
     "data": {
      "text/plain": [
       "tensor([[[-1.2034,  0.3201, -0.7130,  ..., -1.5548, -0.2390, -0.4667],\n",
       "         [-0.1192,  0.4539, -0.4432,  ...,  0.2392,  1.3469,  1.2430],\n",
       "         [ 0.5307,  1.6720, -0.4695,  ...,  1.1966,  0.0111,  0.5835],\n",
       "         [ 0.0139,  1.6754, -0.3388,  ...,  1.1586, -0.0435, -1.0400]],\n",
       "\n",
       "        [[-1.0908,  0.1798, -0.9484,  ..., -1.6047,  0.2439, -0.4530],\n",
       "         [-0.7860,  0.5581, -0.0610,  ...,  0.4835, -0.0077,  1.6621],\n",
       "         [ 0.3567,  1.2698, -0.6398,  ..., -0.0162, -0.1296,  0.3717],\n",
       "         [-0.2407, -0.7349, -0.5102,  ...,  2.0057, -0.3694,  0.1814]]],\n",
       "       grad_fn=<UnsafeViewBackward0>)"
      ]
     },
     "execution_count": 8,
     "metadata": {},
     "output_type": "execute_result"
    }
   ],
   "source": [
    "# Let's feed the batch to the model\n",
    "torch.manual_seed(123)\n",
    "model = DummyGPTModel(GPT_CONFIG_124M)\n",
    "logits = model(batch)\n",
    "print(\"Logits shape: \", logits.shape)  # Should be (2, 4, 50257)\n",
    "logits\n"
   ]
  },
  {
   "cell_type": "markdown",
   "id": "c00bad80",
   "metadata": {},
   "source": [
    "#### Layer Normalization\n",
    "- Layer normalization is typically applied before and after multi-head attention module. This helps to prevent vanishing and exploding gradients\n",
    "by ensuring stable and efficient neural network training."
   ]
  },
  {
   "cell_type": "code",
   "execution_count": 9,
   "id": "91f37203",
   "metadata": {},
   "outputs": [],
   "source": [
    "class LayerNorm(nn.Module):\n",
    "    def __init__(self, emb_dim):\n",
    "        super().__init__()\n",
    "        self.scale = nn.Parameter(torch.ones(emb_dim))\n",
    "        self.shift = nn.Parameter(torch.zeros(emb_dim))\n",
    "        self.eps = 1e-5\n",
    "\n",
    "    def forward(self, x):\n",
    "        mean = x.mean(dim=-1, keepdim=True)\n",
    "        std = x.std(dim=-1, keepdim=True, unbiased=False)\n",
    "        norm_x = (x - mean) / (std + self.eps)\n",
    "        return self.scale * norm_x + self.shift"
   ]
  },
  {
   "cell_type": "code",
   "execution_count": 11,
   "id": "56c81bdf",
   "metadata": {},
   "outputs": [
    {
     "name": "stdout",
     "output_type": "stream",
     "text": [
      "Original mean: tensor([-0.3596, -0.2606]), Original std: tensor([0.5018, 0.5781])\n",
      "Normalized mean: tensor([-2.9802e-08,  0.0000e+00], grad_fn=<MeanBackward1>), Normalized std: tensor([1.1180, 1.1180], grad_fn=<StdBackward0>)\n"
     ]
    }
   ],
   "source": [
    "# Let's test the LayerNorm class\n",
    "torch.manual_seed(123)\n",
    "layer_norm = LayerNorm(emb_dim=5)\n",
    "x = torch.randn(2, 5)\n",
    "norm_x = layer_norm(x)\n",
    "print(f\"Original mean: {x.mean(dim=-1)}, Original std: {x.std(dim=-1)}\")\n",
    "print(f\"Normalized mean: {norm_x.mean(dim=-1)}, Normalized std: {norm_x.std(dim=-1)}\")"
   ]
  },
  {
   "cell_type": "markdown",
   "id": "d39a3532",
   "metadata": {},
   "source": [
    "## Implement Feed forward network with GeLU activations"
   ]
  },
  {
   "cell_type": "code",
   "execution_count": 12,
   "id": "e0756541",
   "metadata": {},
   "outputs": [],
   "source": [
    "class GELU(nn.Module):\n",
    "    def __init__(self):\n",
    "        super().__init__()\n",
    "\n",
    "    def forward(self, x):\n",
    "        return 0.5 * x * (1 + torch.tanh(\n",
    "            torch.sqrt(torch.tensor(2.0 / torch.pi)) * \n",
    "            (x + 0.044715 * torch.pow(x, 3))\n",
    "        ))"
   ]
  },
  {
   "cell_type": "code",
   "execution_count": 13,
   "id": "b4ee9eb2",
   "metadata": {},
   "outputs": [],
   "source": [
    "class FeedForward(nn.Module):\n",
    "    def __init__(self, cfg):\n",
    "        super().__init__()\n",
    "        self.layer = nn.Sequential(\n",
    "            nn.Linear(cfg[\"emb_dim\"], 4 * cfg[\"emb_dim\"]),\n",
    "            GELU(),\n",
    "            nn.Linear(4 * cfg[\"emb_dim\"], cfg[\"emb_dim\"]),\n",
    "        )\n",
    "    \n",
    "    def forward(self, x):\n",
    "        return self.layer(x)"
   ]
  },
  {
   "cell_type": "code",
   "execution_count": 14,
   "id": "f58d5490",
   "metadata": {},
   "outputs": [
    {
     "name": "stdout",
     "output_type": "stream",
     "text": [
      "torch.Size([2, 3, 768])\n"
     ]
    }
   ],
   "source": [
    "ffn = FeedForward(GPT_CONFIG_124M)\n",
    "\n",
    "# input shape: [batch_size, num_token, emb_size]\n",
    "x = torch.rand(2, 3, 768) \n",
    "out = ffn(x)\n",
    "print(out.shape)"
   ]
  },
  {
   "cell_type": "markdown",
   "id": "5f66dc11",
   "metadata": {},
   "source": []
  },
  {
   "cell_type": "markdown",
   "id": "335d8dcf",
   "metadata": {},
   "source": [
    "## Implement shortcut connections\n",
    "\n",
    "- Let's see example of a deep neural network with/without shortcut connections."
   ]
  },
  {
   "cell_type": "code",
   "execution_count": 42,
   "id": "b806752a",
   "metadata": {},
   "outputs": [],
   "source": [
    "# Let's work on an example DeepNeural Network with 5 layers\n",
    "class DeepNeuralNetwork(nn.Module):\n",
    "    def __init__(self, layer_sizes, use_shortcut=False):\n",
    "        super().__init__()\n",
    "        self.use_shortcut = use_shortcut\n",
    "        self.layers = nn.ModuleList(\n",
    "            [\n",
    "                nn.Sequential(nn.Linear(layer_sizes[i], layer_sizes[i+1]), GELU())\n",
    "                for i in range(len(layer_sizes)-1)\n",
    "            ]\n",
    "        )\n",
    "\n",
    "    def forward(self, x):\n",
    "        for layer in self.layers:\n",
    "            layer_output = layer(x)\n",
    "            if self.use_shortcut and x.shape == layer_output.shape:\n",
    "                x = x + layer_output\n",
    "            else:\n",
    "                x = layer_output\n",
    "        return x"
   ]
  },
  {
   "cell_type": "code",
   "execution_count": 43,
   "id": "b8267850",
   "metadata": {},
   "outputs": [],
   "source": [
    "def print_gradients(model, x):\n",
    "    # Forward pass\n",
    "    logits = model(x)\n",
    "    target = torch.tensor([[0.0]])\n",
    "\n",
    "    # Compute loss\n",
    "    loss_fn = nn.MSELoss()\n",
    "    loss = loss_fn(logits, target)\n",
    "    # Backward pass\n",
    "    loss.backward()\n",
    "\n",
    "    # Print gradients\n",
    "    for name, param in model.named_parameters():\n",
    "        if \"weight\" in name:\n",
    "            print(f\"Gradient of {name}: {param.grad.abs().mean().item()}\")"
   ]
  },
  {
   "cell_type": "code",
   "execution_count": 44,
   "id": "79365ee6",
   "metadata": {},
   "outputs": [
    {
     "name": "stdout",
     "output_type": "stream",
     "text": [
      "Gradient of layers.0.0.weight: 6.240667062229477e-06\n",
      "Gradient of layers.1.0.weight: 3.732276127266232e-06\n",
      "Gradient of layers.2.0.weight: 7.05161392033915e-06\n",
      "Gradient of layers.3.0.weight: 1.9250619516242296e-05\n",
      "Gradient of layers.4.0.weight: 0.0006308858282864094\n"
     ]
    }
   ],
   "source": [
    "layer_sizes = [3, 3, 3, 3, 3, 1]\n",
    "dnn_without_shortcut = DeepNeuralNetwork(layer_sizes, use_shortcut=False)\n",
    "x = torch.rand(1, 3)\n",
    "print_gradients(dnn_without_shortcut, x)"
   ]
  },
  {
   "cell_type": "code",
   "execution_count": 45,
   "id": "e5e213f3",
   "metadata": {},
   "outputs": [
    {
     "name": "stdout",
     "output_type": "stream",
     "text": [
      "Gradient of layers.0.0.weight: 0.0024605130311101675\n",
      "Gradient of layers.1.0.weight: 0.0014590122736990452\n",
      "Gradient of layers.2.0.weight: 0.0022815661504864693\n",
      "Gradient of layers.3.0.weight: 0.0008245914359577\n",
      "Gradient of layers.4.0.weight: 0.018168918788433075\n"
     ]
    }
   ],
   "source": [
    "# Let's test the DeepNeuralNetwork with shortcut\n",
    "dnn_with_shortcut = DeepNeuralNetwork(layer_sizes, use_shortcut=True)\n",
    "x = torch.rand(1, 3)\n",
    "print_gradients(dnn_with_shortcut, x)"
   ]
  },
  {
   "cell_type": "markdown",
   "id": "86f8cced",
   "metadata": {},
   "source": [
    "#### Implement Transformer Block"
   ]
  },
  {
   "cell_type": "code",
   "execution_count": 52,
   "id": "4b89b03a",
   "metadata": {},
   "outputs": [],
   "source": [
    "class TransformerBlock(nn.Module):\n",
    "    def __init__(self, cfg):\n",
    "        super().__init__()\n",
    "        self.att = MultiHeadAttention(\n",
    "            d_in = cfg[\"emb_dim\"],\n",
    "            d_out = cfg[\"emb_dim\"],\n",
    "            context_length = cfg[\"context_length\"],\n",
    "            n_heads = cfg[\"n_heads\"],\n",
    "            qkv_bias = cfg[\"qkv_bias\"],\n",
    "            dropout = cfg[\"drop_rate\"]\n",
    "        )\n",
    "        self.ffn = FeedForward(cfg)\n",
    "        self.ln1 = LayerNorm(cfg[\"emb_dim\"])\n",
    "        self.ln2 = LayerNorm(cfg[\"emb_dim\"])\n",
    "        self.drop_shortcut = nn.Dropout(cfg[\"drop_rate\"])\n",
    "\n",
    "    def forward(self, x):\n",
    "\n",
    "        shorcut = x\n",
    "        x = self.ln1(x)\n",
    "        x = self.att(x)\n",
    "        x = self.drop_shortcut(x)\n",
    "        x = x + shorcut\n",
    "\n",
    "        shorcut = x\n",
    "        x = self.ln2(x)\n",
    "        x = self.ffn(x)\n",
    "        x = self.drop_shortcut(x)\n",
    "        x = x + shorcut\n",
    "        return x\n",
    "\n",
    "# Let's implement multi-head attention with parallel head processing\n",
    "class MultiHeadAttention(nn.Module):\n",
    "    def __init__(self, d_in, d_out, context_length, n_heads, qkv_bias=False, dropout=0.0):\n",
    "        \"\"\"\n",
    "        :param d_in: input dimension\n",
    "        :param n_heads: number of heads\n",
    "        :param context_length: length of the context\n",
    "        :param qkv_bias: whether to use bias in the linear layers\n",
    "        :param dropout: dropout rate\n",
    "        \"\"\"\n",
    "        super().__init__()\n",
    "        assert d_out % n_heads == 0, \"d_out must be divisible by n_heads\"\n",
    "        self.head_dim = d_out // n_heads\n",
    "        self.n_heads = n_heads\n",
    "        self.W_q = nn.Linear(d_in, d_out, bias=qkv_bias)\n",
    "        self.W_k = nn.Linear(d_in, d_out, bias=qkv_bias)\n",
    "        self.W_v = nn.Linear(d_in, d_out, bias=qkv_bias)\n",
    "        self.out_projection = nn.Linear(d_out, d_out, bias=qkv_bias)\n",
    "        self.dropout = nn.Dropout(dropout)\n",
    "        # Register a buffer for the causal mask\n",
    "        self.register_buffer(\"mask\", torch.tril(torch.ones(context_length, context_length)))\n",
    "\n",
    "    def forward(self, x):\n",
    "        \"\"\"\n",
    "        :param x: input tensor of shape (B, T, d_in)\n",
    "        :return: output tensor of shape (B, T, d_out)\n",
    "        \"\"\"\n",
    "        # Expect input shape to be (B, T, d_in)\n",
    "        B, T, d_in = x.shape\n",
    "        # Compute queries, keys and values\n",
    "        Q = self.W_q(x)\n",
    "        K = self.W_k(x)\n",
    "        V = self.W_v(x)\n",
    "        # Reshape Q, K, V to (B, n_heads, T, head_dim)\n",
    "        Q = Q.view(B, T, self.n_heads, self.head_dim).transpose(1, 2) # (B, nh, T, hdim)\n",
    "        K = K.view(B, T, self.n_heads, self.head_dim).transpose(1, 2) # (B, nh, T, hdim)\n",
    "        V = V.view(B, T, self.n_heads, self.head_dim).transpose(1, 2) # (B, nh, T, hdim)  \n",
    "\n",
    "        # Compute attention scores\n",
    "        attention_scores = Q @ K.transpose(-1, -2) # (B, nh, T, hdim) @ (B, nh, hdim, T) -> (B, nh, T, T)\n",
    "        \n",
    "        # Apply causal mask\n",
    "        attention_scores = attention_scores.masked_fill(self.mask[:T, :T] == 0, float('-inf'))\n",
    "        attention_weights = torch.softmax(attention_scores / (K.shape[1] ** 0.5), dim=-1)\n",
    "        attention_weights = self.dropout(attention_weights)\n",
    "        # Compute context vector\n",
    "        context_vector = attention_weights @ V # (B, nh, T, T) @ (B, nh, T, hdim) -> (B, nh, T, hdim)\n",
    "        # Reshape context vector to (B, T, d_out)\n",
    "        context_vector = context_vector.transpose(1, 2).contiguous().view(B, T, -1)\n",
    "        # Apply output projection\n",
    "        context_vector = self.out_projection(context_vector) # (B, T, d_out)\n",
    "        return context_vector"
   ]
  },
  {
   "cell_type": "code",
   "execution_count": 53,
   "id": "788bf5a0",
   "metadata": {},
   "outputs": [
    {
     "name": "stdout",
     "output_type": "stream",
     "text": [
      "torch.Size([2, 4, 768])\n"
     ]
    }
   ],
   "source": [
    "# Let's test TransformerBlock\n",
    "torch.manual_seed(123)\n",
    "transformer_block = TransformerBlock(GPT_CONFIG_124M)\n",
    "x = torch.rand(2, 4, 768)\n",
    "out = transformer_block(x)\n",
    "print(out.shape)  # Should be (2, 4, 768)"
   ]
  },
  {
   "cell_type": "markdown",
   "id": "78be7b5f",
   "metadata": {},
   "source": [
    "#### Implement GPT Model architecture"
   ]
  },
  {
   "cell_type": "code",
   "execution_count": 55,
   "id": "bcf4c0fc",
   "metadata": {},
   "outputs": [],
   "source": [
    "class GPTModel(nn.Module):\n",
    "    def __init__(self, cfg):\n",
    "        super().__init__()\n",
    "        self.token_emb = nn.Embedding(cfg[\"vocab_size\"], cfg[\"emb_dim\"])\n",
    "        self.pos_emb = nn.Embedding(cfg[\"context_length\"], cfg[\"emb_dim\"])\n",
    "        self.drop_out = nn.Dropout(cfg[\"drop_rate\"])\n",
    "        self.transformer_blocks = nn.Sequential(\n",
    "            *[TransformerBlock(cfg) for _ in range(cfg[\"n_layers\"])]\n",
    "        )\n",
    "        self.final_norm = LayerNorm(cfg[\"emb_dim\"])\n",
    "        self.out_head = nn.Linear(cfg[\"emb_dim\"], cfg[\"vocab_size\"], bias=False)\n",
    "\n",
    "    def forward(self, x):\n",
    "        B, T = x.shape\n",
    "        token_embeds = self.token_emb(x) # (B, T, emb_dim)\n",
    "        pos_embeds = self.pos_emb(torch.arange(T, device=x.device)) # (T, emb_dim)\n",
    "        x = token_embeds + pos_embeds # (B, T, emb_dim)\n",
    "        x = self.drop_out(x) # (B, T, emb_dim)\n",
    "        x = self.transformer_blocks(x) # (B, T, emb_dim)\n",
    "        x = self.final_norm(x) # (B, T, emb_dim)\n",
    "        logits = self.out_head(x) # (B, T, emb_dim) @ (emb_dim, vocab_size) -> (B, T, vocab_size)\n",
    "        return logits"
   ]
  },
  {
   "cell_type": "code",
   "execution_count": 63,
   "id": "48e9eee5",
   "metadata": {},
   "outputs": [
    {
     "name": "stdout",
     "output_type": "stream",
     "text": [
      "Logits shape:  torch.Size([2, 4, 50257])\n"
     ]
    }
   ],
   "source": [
    "# Let's test GPT model\n",
    "torch.manual_seed(123)\n",
    "gpt_model = GPTModel(GPT_CONFIG_124M)\n",
    "x = torch.rand(2, 4).long()\n",
    "logits = gpt_model(x)\n",
    "print(\"Logits shape: \", logits.shape)  # Should be (2, 4, 50257)"
   ]
  },
  {
   "cell_type": "code",
   "execution_count": 67,
   "id": "a4f732ca",
   "metadata": {},
   "outputs": [
    {
     "name": "stdout",
     "output_type": "stream",
     "text": [
      "Number of parameters in the model: 163000320M\n"
     ]
    }
   ],
   "source": [
    "# Let's check the number of parameters in the model\n",
    "def count_parameters(model):\n",
    "    return sum(p.numel() for p in model.parameters())\n",
    "total_params = count_parameters(gpt_model)\n",
    "print(f\"Number of parameters in the model: {total_params}M\")"
   ]
  },
  {
   "cell_type": "markdown",
   "id": "f8bc4b27",
   "metadata": {},
   "source": [
    "- Investigate weight tying"
   ]
  },
  {
   "cell_type": "code",
   "execution_count": 66,
   "id": "1ac039f7",
   "metadata": {},
   "outputs": [
    {
     "name": "stdout",
     "output_type": "stream",
     "text": [
      "Token embedding layer shape: torch.Size([50257, 768])\n",
      "Output layer shape: torch.Size([50257, 768])\n"
     ]
    }
   ],
   "source": [
    "print(\"Token embedding layer shape:\", model.token_emb.weight.shape) \n",
    "print(\"Output layer shape:\", model.out_head.weight.shape)\n"
   ]
  },
  {
   "cell_type": "code",
   "execution_count": 68,
   "id": "171a0852",
   "metadata": {},
   "outputs": [
    {
     "name": "stdout",
     "output_type": "stream",
     "text": [
      "Number of parameters without out_head layer: 124402944M\n"
     ]
    }
   ],
   "source": [
    "# Let's remove paramters of out_head layer from total parameters\n",
    "def count_parameters_without_out_head(model):\n",
    "    total_params = 0\n",
    "    for name, param in model.named_parameters():\n",
    "        if \"out_head\" not in name:\n",
    "            total_params += param.numel()\n",
    "    return total_params\n",
    "total_params_without_out_head = count_parameters_without_out_head(gpt_model)\n",
    "print(f\"Number of parameters without out_head layer: {total_params_without_out_head}M\")"
   ]
  },
  {
   "cell_type": "markdown",
   "id": "912116c1",
   "metadata": {},
   "source": [
    "##### Investigate number of parameters in FFN and Attention Module"
   ]
  },
  {
   "cell_type": "code",
   "execution_count": null,
   "id": "c5eca62d",
   "metadata": {},
   "outputs": [],
   "source": []
  }
 ],
 "metadata": {
  "kernelspec": {
   "display_name": "gpt_scratch",
   "language": "python",
   "name": "python3"
  },
  "language_info": {
   "codemirror_mode": {
    "name": "ipython",
    "version": 3
   },
   "file_extension": ".py",
   "mimetype": "text/x-python",
   "name": "python",
   "nbconvert_exporter": "python",
   "pygments_lexer": "ipython3",
   "version": "3.13.2"
  }
 },
 "nbformat": 4,
 "nbformat_minor": 5
}
