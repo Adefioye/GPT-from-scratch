{
 "cells": [
  {
   "cell_type": "code",
   "execution_count": 12,
   "id": "33a94b8f",
   "metadata": {},
   "outputs": [],
   "source": [
    "import tiktoken\n",
    "from torch.utils.data import Dataset, DataLoader\n",
    "import torch"
   ]
  },
  {
   "cell_type": "code",
   "execution_count": 13,
   "id": "3115a5a3",
   "metadata": {},
   "outputs": [],
   "source": [
    "tokenizer = tiktoken.get_encoding(\"gpt2\")"
   ]
  },
  {
   "cell_type": "code",
   "execution_count": 14,
   "id": "64f1258f",
   "metadata": {},
   "outputs": [
    {
     "name": "stdout",
     "output_type": "stream",
     "text": [
      "5145\n"
     ]
    }
   ],
   "source": [
    "with open(\"the-verdict.txt\", \"r\", encoding=\"utf-8\") as f:\n",
    "    raw_text = f.read()\n",
    "    enc_text = tokenizer.encode(raw_text)\n",
    "    print(len(enc_text))"
   ]
  },
  {
   "cell_type": "code",
   "execution_count": 15,
   "id": "22e7cb9b",
   "metadata": {},
   "outputs": [],
   "source": [
    "class GPTDatasetV1(Dataset):\n",
    "    def __init__(self, txt, tokenizer, max_length, stride):\n",
    "        self.input_ids = []\n",
    "        self.target_ids = []\n",
    "\n",
    "        # Tokenize the entire text\n",
    "        token_ids = tokenizer.encode(txt, allowed_special={\"<|endoftext|>\"})\n",
    "\n",
    "        # Use a sliding window to chunk the book into overlapping sequences of max_length\n",
    "        for i in range(0, len(token_ids) - max_length, stride):\n",
    "            input_chunk = token_ids[i:i + max_length]\n",
    "            target_chunk = token_ids[i + 1: i + max_length + 1]\n",
    "            self.input_ids.append(torch.tensor(input_chunk))\n",
    "            self.target_ids.append(torch.tensor(target_chunk))\n",
    "\n",
    "    def __len__(self):\n",
    "        return len(self.input_ids)\n",
    "\n",
    "    def __getitem__(self, idx):\n",
    "        return self.input_ids[idx], self.target_ids[idx]\n",
    "\n",
    "\n",
    "def create_dataloader_v1(txt, batch_size, max_length, stride,\n",
    "                         shuffle=True, drop_last=True, num_workers=0):\n",
    "    # Initialize the tokenizer\n",
    "    tokenizer = tiktoken.get_encoding(\"gpt2\")\n",
    "\n",
    "    # Create dataset\n",
    "    dataset = GPTDatasetV1(txt, tokenizer, max_length, stride)\n",
    "\n",
    "    # Create dataloader\n",
    "    dataloader = DataLoader(\n",
    "        dataset, batch_size=batch_size, shuffle=shuffle, drop_last=drop_last, num_workers=num_workers)\n",
    "\n",
    "    return dataloader"
   ]
  },
  {
   "cell_type": "code",
   "execution_count": 29,
   "id": "4c8785fc",
   "metadata": {},
   "outputs": [],
   "source": [
    "dataloader = create_dataloader_v1(raw_text, batch_size=1, max_length=4, stride=1, shuffle=False)"
   ]
  },
  {
   "cell_type": "code",
   "execution_count": 30,
   "id": "2279bf84",
   "metadata": {},
   "outputs": [
    {
     "name": "stdout",
     "output_type": "stream",
     "text": [
      "[tensor([[  40,  367, 2885, 1464]]), tensor([[ 367, 2885, 1464, 1807]])]\n",
      "[tensor([[ 367, 2885, 1464, 1807]]), tensor([[2885, 1464, 1807, 3619]])]\n"
     ]
    }
   ],
   "source": [
    "data_iter = iter(dataloader)\n",
    "first_batch = next(data_iter)\n",
    "second_batch = next(data_iter)\n",
    "print(first_batch)\n",
    "print(second_batch)"
   ]
  },
  {
   "cell_type": "code",
   "execution_count": 33,
   "id": "9dcba5b6",
   "metadata": {},
   "outputs": [],
   "source": [
    "dataloader = create_dataloader_v1(raw_text, batch_size=1, max_length=8, stride=2, shuffle=False)"
   ]
  },
  {
   "cell_type": "code",
   "execution_count": 34,
   "id": "1998ba8d",
   "metadata": {},
   "outputs": [
    {
     "name": "stdout",
     "output_type": "stream",
     "text": [
      "[tensor([[  40,  367, 2885, 1464, 1807, 3619,  402,  271]]), tensor([[  367,  2885,  1464,  1807,  3619,   402,   271, 10899]])]\n",
      "[tensor([[ 2885,  1464,  1807,  3619,   402,   271, 10899,  2138]]), tensor([[ 1464,  1807,  3619,   402,   271, 10899,  2138,   257]])]\n"
     ]
    }
   ],
   "source": [
    "data_iter = iter(dataloader)\n",
    "first_batch = next(data_iter)\n",
    "second_batch = next(data_iter)\n",
    "print(first_batch)\n",
    "print(second_batch)"
   ]
  },
  {
   "cell_type": "markdown",
   "id": "f8307fd9",
   "metadata": {},
   "source": [
    "## Self attention\n",
    "\n",
    "The goal of self attention is to compute the `context vector` of each token in a sequence. The context vector is an enriched embedding representation of a token. It is packed with information about the token itself and its relationship/relevance to other tokens in a sequence.\n",
    "\n",
    "#### Implement self-attention with untrainable weights"
   ]
  },
  {
   "cell_type": "code",
   "execution_count": 35,
   "id": "3288663d",
   "metadata": {},
   "outputs": [],
   "source": [
    "import torch\n",
    "\n",
    "inputs = torch.tensor(\n",
    "  [[0.43, 0.15, 0.89], # Your     (x^1)\n",
    "   [0.55, 0.87, 0.66], # journey  (x^2)\n",
    "   [0.57, 0.85, 0.64], # starts   (x^3)\n",
    "   [0.22, 0.58, 0.33], # with     (x^4)\n",
    "   [0.77, 0.25, 0.10], # one      (x^5)\n",
    "   [0.05, 0.80, 0.55]] # step     (x^6)\n",
    ")"
   ]
  },
  {
   "cell_type": "code",
   "execution_count": 39,
   "id": "bf94e822",
   "metadata": {},
   "outputs": [
    {
     "name": "stdout",
     "output_type": "stream",
     "text": [
      "Context vector:\n",
      " tensor([[0.4421, 0.5931, 0.5790],\n",
      "        [0.4419, 0.6515, 0.5683],\n",
      "        [0.4431, 0.6496, 0.5671],\n",
      "        [0.4304, 0.6298, 0.5510],\n",
      "        [0.4671, 0.5910, 0.5266],\n",
      "        [0.4177, 0.6503, 0.5645]])\n"
     ]
    }
   ],
   "source": [
    "attention_scores = inputs @ inputs.T\n",
    "# Normalize the attention scores with a softmax\n",
    "attention_weights = torch.softmax(attention_scores, dim=-1)\n",
    "# Compute now the context vector\n",
    "context_vector = attention_weights @ inputs\n",
    "print(\"Context vector:\\n\", context_vector)"
   ]
  },
  {
   "cell_type": "markdown",
   "id": "03a9ac87",
   "metadata": {},
   "source": [
    "#### Implement self-attention with trainable weights\n",
    "\n",
    "In self-attention without `trainaible weights`, `context vector` is a weighted sum over input vectors. However, for `trainable weights`, `context vector` is weighted sum over value vector.\n",
    "\n",
    "##### Query, Key and Value analogy to database operation\n",
    "`query` is the word/token in input sequence that the model wants to get information on, key is what is used to get the information about the query and `value` is the information received using the key."
   ]
  },
  {
   "cell_type": "code",
   "execution_count": null,
   "id": "786872ce",
   "metadata": {},
   "outputs": [],
   "source": [
    "import torch.nn as nn\n",
    "\n",
    "# Let's now implement self-attention with trainable weights\n",
    "# We will be using nn.Parameter to initialize and create the weights\n",
    "class SelfAttention_v1(nn.Module):\n",
    "    def __init__(self, d_in, d_out):\n",
    "        \"\"\"\n",
    "        :param d_in: input dimension\n",
    "        :param d_out: output dimension\n",
    "        \"\"\"\n",
    "        super().__init__()\n",
    "        self.W_q = nn.Parameter(torch.randn(d_in, d_out))\n",
    "        self.W_k = nn.Parameter(torch.randn(d_in, d_out))\n",
    "        self.W_v = nn.Parameter(torch.randn(d_in, d_out))\n",
    "        self.d_out = d_out\n",
    "    \n",
    "    def forward(self, x):\n",
    "        \"\"\"\n",
    "        :param x: input tensor of shape (batch_size, d_in)\n",
    "        :return: output tensor of shape (batch_size, d_out)\n",
    "        \"\"\"\n",
    "        # Compute queries, keys and values\n",
    "        Q = x @ self.W_q\n",
    "        K = x @ self.W_k\n",
    "        V = x @ self.W_v\n",
    "\n",
    "        # Compute attention scores\n",
    "        attention_scores = Q @ K.T\n",
    "        attention_weights = torch.softmax(attention_scores / (self.d_out ** 0.5), dim=-1)\n",
    "\n",
    "        # Compute context vector\n",
    "        context_vector = attention_weights @ V\n",
    "\n",
    "        return context_vector"
   ]
  },
  {
   "cell_type": "markdown",
   "id": "ff822e02",
   "metadata": {},
   "source": [
    "- Let's test self-attention v1"
   ]
  },
  {
   "cell_type": "code",
   "execution_count": 47,
   "id": "02ba42bc",
   "metadata": {},
   "outputs": [
    {
     "data": {
      "text/plain": [
       "tensor([[0.2845, 0.4071],\n",
       "        [0.2854, 0.4081],\n",
       "        [0.2854, 0.4075],\n",
       "        [0.2864, 0.3974],\n",
       "        [0.2863, 0.3910],\n",
       "        [0.2860, 0.4039]], grad_fn=<MmBackward0>)"
      ]
     },
     "execution_count": 47,
     "metadata": {},
     "output_type": "execute_result"
    }
   ],
   "source": [
    "torch.manual_seed(123)\n",
    "d_in, d_out = 3, 2\n",
    "sa_v1 = SelfAttention_v1(d_in=d_in, d_out=d_out)\n",
    "sa_v1(inputs) # Context vector for the inputs"
   ]
  },
  {
   "cell_type": "code",
   "execution_count": 48,
   "id": "324c0b39",
   "metadata": {},
   "outputs": [],
   "source": [
    "# Lets now use nn.Linear to implement self-attention\n",
    "\n",
    "class SelfAttention_v2(nn.Module):\n",
    "    def __init__(self, d_in, d_out):\n",
    "        \"\"\"\n",
    "        :param d_in: input dimension\n",
    "        :param d_out: output dimension\n",
    "        \"\"\"\n",
    "        super().__init__()\n",
    "        self.W_q = nn.Linear(d_in, d_out)\n",
    "        self.W_k = nn.Linear(d_in, d_out)\n",
    "        self.W_v = nn.Linear(d_in, d_out)\n",
    "        self.d_out = d_out\n",
    "    \n",
    "    def forward(self, x):\n",
    "        \"\"\"\n",
    "        :param x: input tensor of shape (batch_size, d_in)\n",
    "        :return: output tensor of shape (batch_size, d_out)\n",
    "        \"\"\"\n",
    "        # Compute queries, keys and values\n",
    "        Q = self.W_q(x)\n",
    "        K = self.W_k(x)\n",
    "        V = self.W_v(x)\n",
    "\n",
    "        # Compute attention scores\n",
    "        attention_scores = Q @ K.T\n",
    "        attention_weights = torch.softmax(attention_scores / (self.d_out ** 0.5), dim=-1)\n",
    "\n",
    "        # Compute context vector\n",
    "        context_vector = attention_weights @ V\n",
    "\n",
    "        return context_vector"
   ]
  },
  {
   "cell_type": "markdown",
   "id": "3e4aa3d4",
   "metadata": {},
   "source": [
    "- Let's now test self-attention v2"
   ]
  },
  {
   "cell_type": "code",
   "execution_count": 49,
   "id": "75db67fc",
   "metadata": {},
   "outputs": [
    {
     "data": {
      "text/plain": [
       "tensor([[0.1059, 0.9296],\n",
       "        [0.1144, 0.9353],\n",
       "        [0.1143, 0.9353],\n",
       "        [0.1181, 0.9369],\n",
       "        [0.1138, 0.9343],\n",
       "        [0.1188, 0.9375]], grad_fn=<MmBackward0>)"
      ]
     },
     "execution_count": 49,
     "metadata": {},
     "output_type": "execute_result"
    }
   ],
   "source": [
    "torch.manual_seed(123)\n",
    "sa_v2 = SelfAttention_v2(d_in=d_in, d_out=d_out)\n",
    "sa_v2(inputs) # Context vector for the inputs"
   ]
  },
  {
   "cell_type": "code",
   "execution_count": null,
   "id": "03598e5f",
   "metadata": {},
   "outputs": [],
   "source": []
  }
 ],
 "metadata": {
  "kernelspec": {
   "display_name": "gpt_scratch",
   "language": "python",
   "name": "python3"
  },
  "language_info": {
   "codemirror_mode": {
    "name": "ipython",
    "version": 3
   },
   "file_extension": ".py",
   "mimetype": "text/x-python",
   "name": "python",
   "nbconvert_exporter": "python",
   "pygments_lexer": "ipython3",
   "version": "3.13.2"
  }
 },
 "nbformat": 4,
 "nbformat_minor": 5
}
